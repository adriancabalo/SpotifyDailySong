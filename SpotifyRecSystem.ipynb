{
 "cells": [
  {
   "cell_type": "code",
   "execution_count": 1,
   "id": "1866136c-4bcf-46e1-a3d9-6cb1ab265660",
   "metadata": {},
   "outputs": [],
   "source": [
    "# Lets make a recommendation system based on spotify genres! \n",
    "# We need to first fetch the data in CSV format\n",
    "# Before we create the model, we need to split the data into training and testing splits!\n",
    "# We then need to create a model "
   ]
  },
  {
   "cell_type": "code",
   "execution_count": 2,
   "id": "0ec1eeab-cf18-4dcf-b792-8aee27322142",
   "metadata": {},
   "outputs": [],
   "source": [
    "import spotipy\n",
    "from spotipy.oauth2 import SpotifyOAuth\n",
    "import pandas as pd\n",
    "\n",
    "sp = spotipy.Spotify(auth_manager=SpotifyOAuth(client_id=\"b1478851101d4477ae1647551a4012b5\",\n",
    "                                               client_secret=\"4023acdb3cee4425bb50c962528090a2\",\n",
    "                                               redirect_uri=\"https://example.com/callback\",\n",
    "                                               scope=\"user-library-read\"))\n",
    "\n",
    "# URI for my 'reg' playlist\n",
    "\n",
    "playlist_uri = \"0tMF4ojXdwOgQDuKHtkYKX\""
   ]
  },
  {
   "cell_type": "code",
   "execution_count": null,
   "id": "421998ad-b2a0-48fe-be67-e4a42fce9c8d",
   "metadata": {},
   "outputs": [],
   "source": []
  }
 ],
 "metadata": {
  "kernelspec": {
   "display_name": "Python [conda env:anaconda3-csci128]",
   "language": "python",
   "name": "conda-env-anaconda3-csci128-py"
  },
  "language_info": {
   "codemirror_mode": {
    "name": "ipython",
    "version": 3
   },
   "file_extension": ".py",
   "mimetype": "text/x-python",
   "name": "python",
   "nbconvert_exporter": "python",
   "pygments_lexer": "ipython3",
   "version": "3.10.10"
  }
 },
 "nbformat": 4,
 "nbformat_minor": 5
}
